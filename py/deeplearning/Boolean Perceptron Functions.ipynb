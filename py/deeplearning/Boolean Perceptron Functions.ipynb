{
 "cells": [
  {
   "cell_type": "markdown",
   "metadata": {},
   "source": [
    "<img src=\"perceptron.png\" alt=\"Drawing\" style=\"width: 200px;\"/>\n"
   ]
  },
  {
   "cell_type": "markdown",
   "metadata": {},
   "source": [
    "<img src=\"function.png\" alt=\"Drawing\" style=\"width: 300px;height:100px\"/>\n"
   ]
  },
  {
   "cell_type": "code",
   "execution_count": 2,
   "metadata": {
    "collapsed": true
   },
   "outputs": [],
   "source": [
    "import numpy as np\n"
   ]
  },
  {
   "cell_type": "code",
   "execution_count": 3,
   "metadata": {
    "collapsed": true
   },
   "outputs": [],
   "source": [
    "#\n",
    "# define the boolean  gate functions\n",
    "#\n",
    "\n",
    "def AND(x1, x2):\n",
    "    x = np.array([1, x1, x2])\n",
    "    w = np.array([-1.5, 1, 1])\n",
    "    y = np.sum(w*x)\n",
    "    if y <= 0:\n",
    "        return 0\n",
    "    else:\n",
    "        return 1\n",
    "\n",
    "def OR(x1, x2):\n",
    "    x = np.array([1, x1, x2])\n",
    "    w = np.array([-0.5, 1, 1])\n",
    "    y = np.sum(w*x)\n",
    "    if y <= 0:\n",
    "        return 0\n",
    "    else:\n",
    "        return 1\n",
    "\n",
    "def NAND(x1, x2):\n",
    "    x = np.array([1, x1, x2])\n",
    "    w = np.array([1.5, -1, -1])\n",
    "    y = np.sum(w*x)\n",
    "    if y <= 0:\n",
    "        return 0\n",
    "    else:\n",
    "        return 1\n"
   ]
  },
  {
   "cell_type": "code",
   "execution_count": 4,
   "metadata": {},
   "outputs": [
    {
     "name": "stdout",
     "output_type": "stream",
     "text": [
      "AND\n",
      "(0, 0) -> 0\n",
      "(1, 0) -> 0\n",
      "(0, 1) -> 0\n",
      "(1, 1) -> 1\n",
      "OR\n",
      "(0, 0) -> 0\n",
      "(1, 0) -> 1\n",
      "(0, 1) -> 1\n",
      "(1, 1) -> 1\n",
      "NAND\n",
      "(0, 0) -> 1\n",
      "(1, 0) -> 1\n",
      "(0, 1) -> 1\n",
      "(1, 1) -> 0\n"
     ]
    }
   ],
   "source": [
    "if __name__ == '__main__':\n",
    "    input = [(0, 0), (1, 0), (0, 1), (1, 1)]\n",
    "\n",
    "    print(\"AND\")\n",
    "    for x in input:\n",
    "        y = AND(x[0], x[1])\n",
    "        print(str(x) + \" -> \" + str(y))\n",
    "\n",
    "    print(\"OR\")\n",
    "    for x in input:\n",
    "        y = OR(x[0], x[1])\n",
    "        print(str(x) + \" -> \" + str(y))\n",
    "\n",
    "    print(\"NAND\")\n",
    "    for x in input:\n",
    "        y = NAND(x[0], x[1])\n",
    "        print(str(x) + \" -> \" + str(y))"
   ]
  },
  {
   "cell_type": "code",
   "execution_count": null,
   "metadata": {
    "collapsed": true
   },
   "outputs": [],
   "source": []
  }
 ],
 "metadata": {
  "kernelspec": {
   "display_name": "Python 2",
   "language": "python",
   "name": "python2"
  },
  "language_info": {
   "codemirror_mode": {
    "name": "ipython",
    "version": 2
   },
   "file_extension": ".py",
   "mimetype": "text/x-python",
   "name": "python",
   "nbconvert_exporter": "python",
   "pygments_lexer": "ipython2",
   "version": "2.7.10"
  }
 },
 "nbformat": 4,
 "nbformat_minor": 2
}
