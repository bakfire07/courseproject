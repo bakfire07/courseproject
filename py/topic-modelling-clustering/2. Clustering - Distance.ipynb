{
 "cells": [
  {
   "cell_type": "markdown",
   "metadata": {},
   "source": [
    "# Distance Measure"
   ]
  },
  {
   "cell_type": "code",
   "execution_count": 1,
   "metadata": {},
   "outputs": [
    {
     "name": "stdout",
     "output_type": "stream",
     "text": [
      "   Age Height\n",
      "P1  24   1.84\n",
      "P2  26   1.72\n",
      "P3  23   1.74\n",
      "P4  22   1.71\n",
      "P5  28   1.68\n",
      "P6  18   1.81\n"
     ]
    }
   ],
   "source": [
    "players=data.frame(Age=c(24,26,23,22,28,18), Height=c(1.84, 1.72, 1.74, 1.71,1.68,1.81))\n",
    "rownames(players)=c(\"P1\",\"P2\",\"P3\",\"P4\",\"P5\",\"P6\")\n",
    "print(players)"
   ]
  },
  {
   "cell_type": "code",
   "execution_count": 2,
   "metadata": {},
   "outputs": [
    {
     "name": "stdout",
     "output_type": "stream",
     "text": [
      "Distance between P1 and P3 = 1.00498756211209 \n"
     ]
    }
   ],
   "source": [
    "#Euclidean distance calculation\n",
    "cat(paste(\"Distance between P1 and P3 =\", sqrt( (24-23)^2 + (1.84-1.74)^2),\"\\n\"))"
   ]
  },
  {
   "cell_type": "code",
   "execution_count": 3,
   "metadata": {},
   "outputs": [
    {
     "name": "stdout",
     "output_type": "stream",
     "text": [
      "\n",
      "Distance Matrix"
     ]
    },
    {
     "data": {
      "text/plain": [
       "          P1        P2        P3        P4        P5\n",
       "P2  2.003597                                        \n",
       "P3  1.004988  3.000067                              \n",
       "P4  2.004221  4.000012  1.000450                    \n",
       "P5  4.003199  2.000400  5.000360  6.000075          \n",
       "P6  6.000075  8.000506  5.000490  4.001250 10.000845"
      ]
     },
     "metadata": {},
     "output_type": "display_data"
    },
    {
     "data": {
      "image/png": "[encoded data removed]",
      "text/plain": [
       "plot without title"
      ]
     },
     "metadata": {},
     "output_type": "display_data"
    }
   ],
   "source": [
    "cat('\\nDistance Matrix')\n",
    "dist(players)\n",
    "plot(players, col= \"blue\",  pch = 20)\n",
    "text(players$Age, players$Height, labels=rownames(players),  pos=3)"
   ]
  },
  {
   "cell_type": "code",
   "execution_count": 4,
   "metadata": {},
   "outputs": [
    {
     "name": "stdout",
     "output_type": "stream",
     "text": [
      "   Age Height\n",
      "P1  24    184\n",
      "P2  26    172\n",
      "P3  23    174\n",
      "P4  22    171\n",
      "P5  28    168\n",
      "P6  18    181\n"
     ]
    }
   ],
   "source": [
    "#Assume height is in CM\n",
    "players$Height = players$Height*100\n",
    "print(players)"
   ]
  },
  {
   "cell_type": "code",
   "execution_count": 5,
   "metadata": {},
   "outputs": [
    {
     "name": "stdout",
     "output_type": "stream",
     "text": [
      "\n",
      "Distance Matrix"
     ]
    },
    {
     "data": {
      "text/plain": [
       "          P1        P2        P3        P4        P5\n",
       "P2 12.165525                                        \n",
       "P3 10.049876  3.605551                              \n",
       "P4 13.152946  4.123106  3.162278                    \n",
       "P5 16.492423  4.472136  7.810250  6.708204          \n",
       "P6  6.708204 12.041595  8.602325 10.770330 16.401219"
      ]
     },
     "metadata": {},
     "output_type": "display_data"
    }
   ],
   "source": [
    "cat('\\nDistance Matrix')\n",
    "dist(players)"
   ]
  },
  {
   "cell_type": "code",
   "execution_count": 6,
   "metadata": {},
   "outputs": [
    {
     "name": "stdout",
     "output_type": "stream",
     "text": [
      "   Age Height IsFootBaller\n",
      "P1  24    184            1\n",
      "P2  26    172            0\n",
      "P3  23    174            0\n",
      "P4  22    171            1\n",
      "P5  28    168            1\n",
      "P6  18    181            0\n"
     ]
    },
    {
     "data": {
      "text/plain": [
       "          P1        P2        P3        P4        P5\n",
       "P2 12.206556                                        \n",
       "P3 10.099505  3.605551                              \n",
       "P4 13.152946  4.242641  3.316625                    \n",
       "P5 16.492423  4.582576  7.874008  6.708204          \n",
       "P6  6.782330 12.041595  8.602325 10.816654 16.431677"
      ]
     },
     "metadata": {},
     "output_type": "display_data"
    }
   ],
   "source": [
    "players$IsFootBaller = c(1,0,0,1,1,0)\n",
    "print(players)\n",
    "dist(players)"
   ]
  },
  {
   "cell_type": "code",
   "execution_count": 7,
   "metadata": {},
   "outputs": [
    {
     "name": "stdout",
     "output_type": "stream",
     "text": [
      "   Age Height IsFootBaller\n",
      "P1 0.6 1.0000            1\n",
      "P2 0.8 0.2500            0\n",
      "P3 0.5 0.3750            0\n",
      "P4 0.4 0.1875            1\n",
      "P5 1.0 0.0000            1\n",
      "P6 0.0 0.8125            0\n"
     ]
    },
    {
     "data": {
      "text/plain": [
       "          P1        P2        P3        P4        P5\n",
       "P2 1.2658989                                        \n",
       "P3 1.1834800 0.3250000                              \n",
       "P4 0.8367534 1.0788449 1.0223288                    \n",
       "P5 1.0770330 1.0500000 1.1792476 0.6286145          \n",
       "P6 1.1811673 0.9779602 0.6643841 1.2452409 1.6309985"
      ]
     },
     "metadata": {},
     "output_type": "display_data"
    }
   ],
   "source": [
    "#Define a normalization function to scale a vector to 0-1 range\n",
    "scale_0_1 =function(x){ return((x-min(x))/(max(x) -min(x)))}\n",
    "\n",
    "norm.players = apply(players, 2, scale_0_1)\n",
    "print(norm.players)\n",
    "dist(norm.players)"
   ]
  }
 ],
 "metadata": {
  "kernelspec": {
   "display_name": "R",
   "language": "R",
   "name": "ir"
  },
  "language_info": {
   "codemirror_mode": "r",
   "file_extension": ".r",
   "mimetype": "text/x-r-source",
   "name": "R",
   "pygments_lexer": "r",
   "version": "3.4.3"
  }
 },
 "nbformat": 4,
 "nbformat_minor": 2
}
