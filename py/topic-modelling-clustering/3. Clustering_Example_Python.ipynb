{
 "cells": [
  {
   "cell_type": "markdown",
   "metadata": {},
   "source": [
    "# Clustering Example using Python\n",
    "\n",
    "Source: https://pythonprogramminglanguage.com/kmeans-text-clustering/"
   ]
  },
  {
   "cell_type": "code",
   "execution_count": 1,
   "metadata": {},
   "outputs": [
    {
     "name": "stdout",
     "output_type": "stream",
     "text": [
      "['100', 'app', 'artificial', 'best', 'brain', 'brown', 'came', 'cat', 'chrome', 'climb', 'climbing', 'dog', 'drink', 'eat', 'eating', 'extension', 'face', 'feedback', 'fox', 'google', 'impressed', 'incredible', 'jumps', 'key', 'kitty', 'lazy', 'learns', 'little', 'map', 'ninja', 'open', 'photo', 'play', 'promoter', 'quick', 'restaurant', 'smiley', 'succeed', 'tab', 'taken', 'translate', 've', 'videos', 'way']\n"
     ]
    }
   ],
   "source": [
    "from sklearn.feature_extraction import text\n",
    "from sklearn.feature_extraction.text import TfidfVectorizer\n",
    "from sklearn.cluster import KMeans\n",
    "from sklearn.metrics import adjusted_rand_score\n",
    "\n",
    "documents = [\"This little kitty came to play when I was eating at a restaurant.\",\n",
    "             \"The quick brown fox jumps over the lazy dog\",\n",
    "             \"Google Translate app is incredible.\",\n",
    "             \"If you open 100 tab in google you get a smiley face.\",\n",
    "             \"Best cat photo I've ever taken.\",\n",
    "             \"Climbing ninja cat.\",\n",
    "             \"Google's Artificial Brain Learns to Find Cat Videos\",\n",
    "             \"Eat, Drink and Succeed: Climb Your Way to the Top\",\n",
    "             \"Impressed with google map feedback.\",\n",
    "             \"Key promoter extension for Google Chrome.\"]\n",
    "\n",
    "#Convert text to vectos and compute tf-idf \n",
    "vectorizer = TfidfVectorizer(stop_words='english')\n",
    "X = vectorizer.fit_transform(documents)\n",
    "terms = vectorizer.get_feature_names()\n",
    "print(terms)"
   ]
  },
  {
   "cell_type": "code",
   "execution_count": 2,
   "metadata": {},
   "outputs": [
    {
     "name": "stdout",
     "output_type": "stream",
     "text": [
      "['app', 'artificial', 'best', 'brain', 'brown', 'came', 'cat', 'chrome', 'climb', 'dog', 'drink', 'eat', 'extension', 'face', 'feedback', 'fox', 'google', 'impressed', 'incredible', 'jumps', 'key', 'kitty', 'lazy', 'learns', 'little', 'map', 'ninja', 'open', 'photo', 'play', 'promoter', 'quick', 'restaurant', 'smiley', 'succeed', 'tab', 'taken', 'translate', 'videos', 'way']\n"
     ]
    }
   ],
   "source": [
    "#text pre-processing\n",
    "my_stop_words = text.ENGLISH_STOP_WORDS.union(['100','ve'])\n",
    "#Apply a simple stemming replace 'ing' with space\n",
    "import re\n",
    "clean_docs = [ re.sub('ing ', ' ', d) for d in documents]\n",
    "\n",
    "vectorizer = TfidfVectorizer(stop_words=my_stop_words)\n",
    "X = vectorizer.fit_transform(clean_docs)\n",
    "terms = vectorizer.get_feature_names()\n",
    "print(terms)"
   ]
  },
  {
   "cell_type": "code",
   "execution_count": 3,
   "metadata": {},
   "outputs": [
    {
     "name": "stdout",
     "output_type": "stream",
     "text": [
      "\n",
      "FirstDocument: This little kitty came to play when I was eating at a restaurant. \n",
      "\n",
      "How is it captured by the vectorizer?\n",
      "  (0, 24)\t0.41802398937415175\n",
      "  (0, 21)\t0.41802398937415175\n",
      "  (0, 5)\t0.41802398937415175\n",
      "  (0, 29)\t0.41802398937415175\n",
      "  (0, 11)\t0.35535858163071754\n",
      "  (0, 32)\t0.41802398937415175\n",
      "\n",
      "A detailed version\n",
      "TermId = 5, Term = came, tf-idf=0.418\n",
      "TermId = 11, Term = eat, tf-idf=0.355\n",
      "TermId = 21, Term = kitty, tf-idf=0.418\n",
      "TermId = 24, Term = little, tf-idf=0.418\n",
      "TermId = 29, Term = play, tf-idf=0.418\n",
      "TermId = 32, Term = restaurant, tf-idf=0.418\n"
     ]
    }
   ],
   "source": [
    "#How to represent first document in vector form?\n",
    "print(\"\\nFirstDocument:\", documents[0],\"\\n\")\n",
    "print(\"How is it captured by the vectorizer?\")\n",
    "print(X[0])\n",
    "print(\"\\nA detailed version\")\n",
    "for i in range(len(terms)):\n",
    "    if X[0,i]>0:\n",
    "        print('TermId = {}, Term = {}, tf-idf={:0.3f}'.format(i, terms[i],X[0,i]))"
   ]
  },
  {
   "cell_type": "code",
   "execution_count": 4,
   "metadata": {},
   "outputs": [
    {
     "name": "stdout",
     "output_type": "stream",
     "text": [
      "Top 7 terms per cluster:\n",
      "Cluster 0: ['google', 'app', 'feedback', 'impressed', 'map', 'incredible', 'translate']\n",
      "Cluster 1: ['cat', 'ninja', 'climb', 'photo', 'taken', 'best', 'artificial']\n",
      "Cluster 2: ['eat', 'way', 'drink', 'succeed', 'kitty', 'restaurant', 'came']\n"
     ]
    }
   ],
   "source": [
    "#Apply K-Means clustering \n",
    "seed=123\n",
    "model = KMeans(n_clusters=3,  max_iter=100, n_init=1, random_state=seed)\n",
    "model.fit(X)\n",
    "\n",
    "print(\"Top 7 terms per cluster:\")\n",
    "order_centroids = model.cluster_centers_.argsort()[:, ::-1]\n",
    "\n",
    "for i in range(3):\n",
    "    print(\"Cluster %d:\" % i , [terms[ind] for ind in order_centroids[i, :7]])\n"
   ]
  },
  {
   "cell_type": "code",
   "execution_count": 5,
   "metadata": {},
   "outputs": [
    {
     "name": "stdout",
     "output_type": "stream",
     "text": [
      "1.DocID                                         2.Document  3.ClusterId\n",
      "      1  This little kitty came to play when I was eati...            2\n",
      "      2        The quick brown fox jumps over the lazy dog            0\n",
      "      3                Google Translate app is incredible.            0\n",
      "      4  If you open 100 tab in google you get a smiley...            0\n",
      "      5                    Best cat photo I've ever taken.            1\n",
      "      6                                Climbing ninja cat.            1\n",
      "      7  Google's Artificial Brain Learns to Find Cat V...            1\n",
      "      8  Eat, Drink and Succeed: Climb Your Way to the Top            2\n",
      "      9                Impressed with google map feedback.            0\n",
      "     10          Key promoter extension for Google Chrome.            0\n"
     ]
    }
   ],
   "source": [
    "import pandas as pd\n",
    "output = pd.DataFrame({'1.DocID':range(1,11),'2.Document':documents,'3.ClusterId':model.labels_})\n",
    "print(output.to_string(index=False))"
   ]
  },
  {
   "cell_type": "code",
   "execution_count": null,
   "metadata": {},
   "outputs": [],
   "source": []
  }
 ],
 "metadata": {
  "kernelspec": {
   "display_name": "Python 3",
   "language": "python",
   "name": "python3"
  },
  "language_info": {
   "codemirror_mode": {
    "name": "ipython",
    "version": 3
   },
   "file_extension": ".py",
   "mimetype": "text/x-python",
   "name": "python",
   "nbconvert_exporter": "python",
   "pygments_lexer": "ipython3",
   "version": "3.6.3"
  }
 },
 "nbformat": 4,
 "nbformat_minor": 2
}
