{
 "cells": [
  {
   "cell_type": "markdown",
   "metadata": {
    "slideshow": {
     "slide_type": "slide"
    }
   },
   "source": [
    "# Introduction to Clustering and Topic Modelling (Using R)\n",
    "\n",
    "K-Means clustering example\n",
    "\n",
    "Reference: https://www.datacamp.com/community/tutorials/k-means-clustering-r "
   ]
  },
  {
   "cell_type": "code",
   "execution_count": 3,
   "metadata": {
    "slideshow": {
     "slide_type": "subslide"
    }
   },
   "outputs": [
    {
     "data": {
      "text/html": [
       "<table>\n",
       "<thead><tr><th scope=col>Date/Time</th><th scope=col>Lat</th><th scope=col>Lon</th><th scope=col>Base</th></tr></thead>\n",
       "<tbody>\n",
       "\t<tr><td>4/1/2014 0:11:00</td><td>40.7690         </td><td>-73.9549        </td><td>B02512          </td></tr>\n",
       "\t<tr><td>4/1/2014 0:17:00</td><td>40.7267         </td><td>-74.0345        </td><td>B02512          </td></tr>\n",
       "\t<tr><td>4/1/2014 0:21:00</td><td>40.7316         </td><td>-73.9873        </td><td>B02512          </td></tr>\n",
       "\t<tr><td>4/1/2014 0:28:00</td><td>40.7588         </td><td>-73.9776        </td><td>B02512          </td></tr>\n",
       "\t<tr><td>4/1/2014 0:33:00</td><td>40.7594         </td><td>-73.9722        </td><td>B02512          </td></tr>\n",
       "\t<tr><td>4/1/2014 0:33:00</td><td>40.7383         </td><td>-74.0403        </td><td>B02512          </td></tr>\n",
       "\t<tr><td>4/1/2014 0:39:00</td><td>40.7223         </td><td>-73.9887        </td><td>B02512          </td></tr>\n",
       "\t<tr><td>4/1/2014 0:45:00</td><td>40.7620         </td><td>-73.9790        </td><td>B02512          </td></tr>\n",
       "\t<tr><td>4/1/2014 0:55:00</td><td>40.7524         </td><td>-73.9960        </td><td>B02512          </td></tr>\n",
       "\t<tr><td>4/1/2014 1:01:00</td><td>40.7575         </td><td>-73.9846        </td><td>B02512          </td></tr>\n",
       "</tbody>\n",
       "</table>\n"
      ],
      "text/latex": [
       "\\begin{tabular}{r|llll}\n",
       " Date/Time & Lat & Lon & Base\\\\\n",
       "\\hline\n",
       "\t 4/1/2014 0:11:00 & 40.7690          & -73.9549         & B02512          \\\\\n",
       "\t 4/1/2014 0:17:00 & 40.7267          & -74.0345         & B02512          \\\\\n",
       "\t 4/1/2014 0:21:00 & 40.7316          & -73.9873         & B02512          \\\\\n",
       "\t 4/1/2014 0:28:00 & 40.7588          & -73.9776         & B02512          \\\\\n",
       "\t 4/1/2014 0:33:00 & 40.7594          & -73.9722         & B02512          \\\\\n",
       "\t 4/1/2014 0:33:00 & 40.7383          & -74.0403         & B02512          \\\\\n",
       "\t 4/1/2014 0:39:00 & 40.7223          & -73.9887         & B02512          \\\\\n",
       "\t 4/1/2014 0:45:00 & 40.7620          & -73.9790         & B02512          \\\\\n",
       "\t 4/1/2014 0:55:00 & 40.7524          & -73.9960         & B02512          \\\\\n",
       "\t 4/1/2014 1:01:00 & 40.7575          & -73.9846         & B02512          \\\\\n",
       "\\end{tabular}\n"
      ],
      "text/markdown": [
       "\n",
       "Date/Time | Lat | Lon | Base | \n",
       "|---|---|---|---|---|---|---|---|---|---|\n",
       "| 4/1/2014 0:11:00 | 40.7690          | -73.9549         | B02512           | \n",
       "| 4/1/2014 0:17:00 | 40.7267          | -74.0345         | B02512           | \n",
       "| 4/1/2014 0:21:00 | 40.7316          | -73.9873         | B02512           | \n",
       "| 4/1/2014 0:28:00 | 40.7588          | -73.9776         | B02512           | \n",
       "| 4/1/2014 0:33:00 | 40.7594          | -73.9722         | B02512           | \n",
       "| 4/1/2014 0:33:00 | 40.7383          | -74.0403         | B02512           | \n",
       "| 4/1/2014 0:39:00 | 40.7223          | -73.9887         | B02512           | \n",
       "| 4/1/2014 0:45:00 | 40.7620          | -73.9790         | B02512           | \n",
       "| 4/1/2014 0:55:00 | 40.7524          | -73.9960         | B02512           | \n",
       "| 4/1/2014 1:01:00 | 40.7575          | -73.9846         | B02512           | \n",
       "\n",
       "\n"
      ],
      "text/plain": [
       "   Date/Time        Lat     Lon      Base  \n",
       "1  4/1/2014 0:11:00 40.7690 -73.9549 B02512\n",
       "2  4/1/2014 0:17:00 40.7267 -74.0345 B02512\n",
       "3  4/1/2014 0:21:00 40.7316 -73.9873 B02512\n",
       "4  4/1/2014 0:28:00 40.7588 -73.9776 B02512\n",
       "5  4/1/2014 0:33:00 40.7594 -73.9722 B02512\n",
       "6  4/1/2014 0:33:00 40.7383 -74.0403 B02512\n",
       "7  4/1/2014 0:39:00 40.7223 -73.9887 B02512\n",
       "8  4/1/2014 0:45:00 40.7620 -73.9790 B02512\n",
       "9  4/1/2014 0:55:00 40.7524 -73.9960 B02512\n",
       "10 4/1/2014 1:01:00 40.7575 -73.9846 B02512"
      ]
     },
     "metadata": {},
     "output_type": "display_data"
    },
    {
     "name": "stdout",
     "output_type": "stream",
     "text": [
      "Summary of Apr14 datasetClasses 'data.table' and 'data.frame':\t564516 obs. of  4 variables:\n",
      " $ Date/Time: chr  \"4/1/2014 0:11:00\" \"4/1/2014 0:17:00\" \"4/1/2014 0:21:00\" \"4/1/2014 0:28:00\" ...\n",
      " $ Lat      : num  40.8 40.7 40.7 40.8 40.8 ...\n",
      " $ Lon      : num  -74 -74 -74 -74 -74 ...\n",
      " $ Base     : chr  \"B02512\" \"B02512\" \"B02512\" \"B02512\" ...\n",
      " - attr(*, \".internal.selfref\")=<externalptr> \n"
     ]
    }
   ],
   "source": [
    "library('data.table')\n",
    "\n",
    "# Load the .csv files\n",
    "apr14 <- fread(\"https://raw.githubusercontent.com/fivethirtyeight/uber-tlc-foil-response/master/uber-trip-data/uber-raw-data-apr14.csv\")\n",
    "\n",
    "# apr14 <- readRDS('./data/apr14.RDS')\n",
    "\n",
    "#Top 10 lines of the dataset\n",
    "head(apr14,n=10)\n",
    "#Summary of the dataset\n",
    "cat('Summary of Apr14 dataset')\n",
    "str(apr14)"
   ]
  },
  {
   "cell_type": "code",
   "execution_count": 4,
   "metadata": {
    "slideshow": {
     "slide_type": "slide"
    }
   },
   "outputs": [],
   "source": [
    "# Read all other csv files\n",
    "\n",
    "#may14 <- fread(\"https://raw.githubusercontent.com/fivethirtyeight/uber-tlc-foil-response/master/uber-trip-data/uber-raw-data-may14.csv\")\n",
    "#jun14 <- fread(\"https://raw.githubusercontent.com/fivethirtyeight/uber-tlc-foil-response/master/uber-trip-data/uber-raw-data-jun14.csv\")\n",
    "#jul14 <- fread(\"https://raw.githubusercontent.com/fivethirtyeight/uber-tlc-foil-response/master/uber-trip-data/uber-raw-data-jul14.csv\")\n",
    "#aug14 <- fread(\"https://raw.githubusercontent.com/fivethirtyeight/uber-tlc-foil-response/master/uber-trip-data/uber-raw-data-aug14.csv\")\n",
    "#sep14 <- fread(\"https://raw.githubusercontent.com/fivethirtyeight/uber-tlc-foil-response/master/uber-trip-data/uber-raw-data-sep14.csv\")\n",
    "\n",
    "may14 <- readRDS('./data/may14.RDS')\n",
    "jun14 <- readRDS('./data/jun14.RDS')\n",
    "jul14 <- readRDS('./data/jul14.RDS')\n",
    "aug14 <- readRDS('./data/aug14.RDS')\n",
    "sep14 <- readRDS('./data/sep14.RDS')"
   ]
  },
  {
   "cell_type": "code",
   "execution_count": 5,
   "metadata": {},
   "outputs": [
    {
     "name": "stderr",
     "output_type": "stream",
     "text": [
      "\n",
      "Attaching package: 'dplyr'\n",
      "\n",
      "The following objects are masked from 'package:data.table':\n",
      "\n",
      "    between, first, last\n",
      "\n",
      "The following objects are masked from 'package:stats':\n",
      "\n",
      "    filter, lag\n",
      "\n",
      "The following objects are masked from 'package:base':\n",
      "\n",
      "    intersect, setdiff, setequal, union\n",
      "\n"
     ]
    },
    {
     "name": "stdout",
     "output_type": "stream",
     "text": [
      "Summary of joined dataset"
     ]
    },
    {
     "data": {
      "text/plain": [
       "  Date/Time              Lat             Lon             Base          \n",
       " Length:4534327     Min.   :39.66   Min.   :-74.93   Length:4534327    \n",
       " Class :character   1st Qu.:40.72   1st Qu.:-74.00   Class :character  \n",
       " Mode  :character   Median :40.74   Median :-73.98   Mode  :character  \n",
       "                    Mean   :40.74   Mean   :-73.97                     \n",
       "                    3rd Qu.:40.76   3rd Qu.:-73.97                     \n",
       "                    Max.   :42.12   Max.   :-72.07                     "
      ]
     },
     "metadata": {},
     "output_type": "display_data"
    }
   ],
   "source": [
    "# Join all datasets using dplyr\n",
    "library(dplyr)\n",
    "data14 <- bind_rows(apr14, may14, jun14, jul14, aug14, sep14)\n",
    "\n",
    "#Display summary of joined dataset\n",
    "cat('Summary of joined dataset')\n",
    "summary(data14)"
   ]
  },
  {
   "cell_type": "code",
   "execution_count": 6,
   "metadata": {},
   "outputs": [
    {
     "name": "stdout",
     "output_type": "stream",
     "text": [
      "          Date/Time     Lat      Lon   Base clustID\n",
      "1: 4/1/2014 0:11:00 40.7690 -73.9549 B02512       1\n",
      "2: 4/1/2014 0:17:00 40.7267 -74.0345 B02512       5\n",
      "3: 4/1/2014 0:21:00 40.7316 -73.9873 B02512       5\n",
      "4: 4/1/2014 0:28:00 40.7588 -73.9776 B02512       1\n",
      "5: 4/1/2014 0:33:00 40.7594 -73.9722 B02512       1\n",
      "6: 4/1/2014 0:33:00 40.7383 -74.0403 B02512       5\n"
     ]
    }
   ],
   "source": [
    "#Run k means clustering with K=5\n",
    "clusters <- kmeans(data14[,2:3], 5)\n",
    "\n",
    "#Add cluster IDs back to orginal data frame\n",
    "data14$clustID <- as.factor(clusters$cluster)\n",
    "\n",
    "print(head(data14))"
   ]
  },
  {
   "cell_type": "code",
   "execution_count": 7,
   "metadata": {},
   "outputs": [
    {
     "data": {
      "text/plain": [
       "\n",
       "      1       2       3       4       5 \n",
       "2068463   45630  238328  147669 2034237 "
      ]
     },
     "metadata": {},
     "output_type": "display_data"
    },
    {
     "data": {
      "text/plain": [
       "\n",
       "        1         2         3         4         5 \n",
       "45.617861  1.006324  5.256083  3.256691 44.863041 "
      ]
     },
     "metadata": {},
     "output_type": "display_data"
    }
   ],
   "source": [
    "#Show the count \n",
    "table(data14$clustID)\n",
    "\n",
    "#Show the count in percentage\n",
    "table(data14$clustID)/nrow(data14)*100"
   ]
  },
  {
   "cell_type": "code",
   "execution_count": null,
   "metadata": {},
   "outputs": [],
   "source": [
    "#Visualization \n",
    "#library(ggmap)\n",
    "\n",
    "#NYCMap <- get_map(\"New York\", zoom = 10)\n",
    "#ggmap(NYCMap) + geom_point(aes(x = Lon[], y = Lat[], colour = as.factor(clustID)),data = data14) +\n",
    "#  ggtitle(\"NYC Clusters using KMean\")"
   ]
  },
  {
   "cell_type": "markdown",
   "metadata": {},
   "source": [
    "<img src= \"./images/nyc_cluster.jpg\",style= \"border: 1px solid black;\">"
   ]
  },
  {
   "cell_type": "markdown",
   "metadata": {},
   "source": [
    "### <font color='blue'>Knowledge check</font>\n",
    "       Q1. Is it a right approach?\n",
    "       Q2. Will I get same result if re-run?\n",
    "       Q3. How to find best K?  \n",
    "       Q4. What is the key concept/measure used in Kmeans?"
   ]
  },
  {
   "cell_type": "code",
   "execution_count": 8,
   "metadata": {},
   "outputs": [
    {
     "name": "stdout",
     "output_type": "stream",
     "text": [
      "Second attempt\n"
     ]
    },
    {
     "data": {
      "text/plain": [
       "\n",
       "        1         2         3         4         5 \n",
       "46.941586  1.000501  6.101523 33.137178 12.819212 "
      ]
     },
     "metadata": {},
     "output_type": "display_data"
    }
   ],
   "source": [
    "# Second attempt\n",
    "#Run k means clustering with K=5\n",
    "clusters <- kmeans(data14[,2:3], 5)\n",
    "data14$clustID <- as.factor(clusters$cluster)\n",
    "\n",
    "cat(paste(\"Second attempt\\n\"))\n",
    "#Show the count in percentage\n",
    "table(data14$clustID)/nrow(data14)*100"
   ]
  },
  {
   "cell_type": "code",
   "execution_count": 9,
   "metadata": {},
   "outputs": [
    {
     "name": "stdout",
     "output_type": "stream",
     "text": [
      "Third attempt\n"
     ]
    },
    {
     "data": {
      "text/plain": [
       "\n",
       "        1         2         3         4         5 \n",
       " 3.200232 12.609435  4.798198 39.747927 39.644207 "
      ]
     },
     "metadata": {},
     "output_type": "display_data"
    }
   ],
   "source": [
    "#Third attempt\n",
    "#Run k means clustering with K=5\n",
    "clusters <- kmeans(data14[,2:3], 5)\n",
    "data14$clustID <- as.factor(clusters$cluster)\n",
    "cat(paste(\"Third attempt\\n\"))\n",
    "#Show the count in percentage\n",
    "table(data14$clustID)/nrow(data14)*100"
   ]
  },
  {
   "cell_type": "code",
   "execution_count": 10,
   "metadata": {},
   "outputs": [
    {
     "name": "stdout",
     "output_type": "stream",
     "text": [
      "First attempt with seed=12345\n"
     ]
    },
    {
     "data": {
      "text/plain": [
       "\n",
       "        1         2         3         4         5 \n",
       "46.941167 12.819102  6.101743  1.000501 33.137487 "
      ]
     },
     "metadata": {},
     "output_type": "display_data"
    },
    {
     "name": "stdout",
     "output_type": "stream",
     "text": [
      "Second attempt with seed=12345\n"
     ]
    },
    {
     "data": {
      "text/plain": [
       "\n",
       "        1         2         3         4         5 \n",
       "46.941167 12.819102  6.101743  1.000501 33.137487 "
      ]
     },
     "metadata": {},
     "output_type": "display_data"
    }
   ],
   "source": [
    "set.seed(12345)\n",
    "#Run k means clustering with K=5\n",
    "clusters <- kmeans(data14[,2:3], 5)\n",
    "data14$clustID <- as.factor(clusters$cluster)\n",
    "cat(paste(\"First attempt with seed=12345\\n\"))\n",
    "#Show the count in percentage\n",
    "table(data14$clustID)/nrow(data14)*100\n",
    "\n",
    "\n",
    "set.seed(12345)\n",
    "#Run k means clustering with K=5\n",
    "clusters <- kmeans(data14[,2:3], 5)\n",
    "data14$clustID <- as.factor(clusters$cluster)\n",
    "cat(paste(\"Second attempt with seed=12345\\n\"))\n",
    "#Show the count in percentage\n",
    "table(data14$clustID)/nrow(data14)*100\n"
   ]
  },
  {
   "cell_type": "markdown",
   "metadata": {},
   "source": [
    "# How to pick best K? \n",
    "Select K such that \n",
    "- Intra-cluster distance is minimized\n",
    "- Inter-cluster distance is maximized"
   ]
  },
  {
   "cell_type": "code",
   "execution_count": 11,
   "metadata": {},
   "outputs": [
    {
     "name": "stdout",
     "output_type": "stream",
     "text": [
      "List of 9\n",
      " $ cluster     : int [1:4534327] 5 1 1 5 5 1 1 5 1 5 ...\n",
      " $ centers     : num [1:5, 1:2] 40.7 40.7 40.7 40.7 40.8 ...\n",
      "  ..- attr(*, \"dimnames\")=List of 2\n",
      "  .. ..$ : chr [1:5] \"1\" \"2\" \"3\" \"4\" ...\n",
      "  .. ..$ : chr [1:2] \"Lat\" \"Lon\"\n",
      " $ totss       : num 22107\n",
      " $ withinss    : num [1:5] 719 997 3524 471 1650\n",
      " $ tot.withinss: num 7361\n",
      " $ betweenss   : num 14746\n",
      " $ size        : int [1:5] 2128466 581260 276673 45366 1502562\n",
      " $ iter        : int 4\n",
      " $ ifault      : int 0\n",
      " - attr(*, \"class\")= chr \"kmeans\"\n"
     ]
    }
   ],
   "source": [
    "#Understand the output of k-means \n",
    "help(kmeans)\n",
    "str(clusters)"
   ]
  },
  {
   "cell_type": "code",
   "execution_count": 12,
   "metadata": {},
   "outputs": [
    {
     "name": "stdout",
     "output_type": "stream",
     "text": [
      "    K  withinss     betweenss\n",
      "1   1 22106.970 -6.147457e-08\n",
      "2   2 13680.549  8.426421e+03\n",
      "3   3 10693.451  1.141352e+04\n",
      "4   4  8779.405  1.332757e+04\n",
      "5   5  7414.473  1.469250e+04\n",
      "6   6  5527.814  1.657916e+04\n",
      "7   7  5065.305  1.704167e+04\n",
      "8   8  4420.024  1.768695e+04\n",
      "9   9  4047.327  1.805964e+04\n",
      "10 10  3853.346  1.825362e+04\n"
     ]
    },
    {
     "name": "stderr",
     "output_type": "stream",
     "text": [
      "Warning message:\n",
      "\"package 'repr' was built under R version 3.4.4\""
     ]
    },
    {
     "data": {
      "image/png": "[encoded data removed]",
      "text/plain": [
       "Plot with title \"Knee Plot of Within Sums of Squares\""
      ]
     },
     "metadata": {},
     "output_type": "display_data"
    }
   ],
   "source": [
    "Compare <- data.frame(K=seq(1,10), withinss=rep(0,10), betweenss =  rep(0,10))\n",
    "\n",
    "for (i in 1:10){\n",
    "    set.seed(1234567)\n",
    "    km_out <- kmeans(data14[,2:3],centers = i)\n",
    "    Compare$withinss[i] <- km_out$tot.withinss\n",
    "    Compare$betweenss[i] <- km_out$betweenss\n",
    "}\n",
    "print(Compare)\n",
    "\n",
    "library(repr)\n",
    "# Change plot size to 6 x 4\n",
    "options(repr.plot.width=6, repr.plot.height=4)\n",
    "plot(Compare$K, Compare$withinss, type = \"b\", xlab = \"Number of groups\", \n",
    "     ylab = \"Within groups sum of squares\", col=\"blue\", \n",
    "     main=\"Knee Plot of Within Sums of Squares\")\n",
    "\n"
   ]
  },
  {
   "cell_type": "markdown",
   "metadata": {},
   "source": [
    "Select K=6, which gives a relatively significant drop in total withinss. "
   ]
  }
 ],
 "metadata": {
  "kernelspec": {
   "display_name": "R",
   "language": "R",
   "name": "ir"
  },
  "language_info": {
   "codemirror_mode": "r",
   "file_extension": ".r",
   "mimetype": "text/x-r-source",
   "name": "R",
   "pygments_lexer": "r",
   "version": "3.4.3"
  }
 },
 "nbformat": 4,
 "nbformat_minor": 2
}
